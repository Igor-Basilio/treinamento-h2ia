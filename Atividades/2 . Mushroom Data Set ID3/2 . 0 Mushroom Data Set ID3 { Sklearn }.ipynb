{
  "nbformat": 4,
  "nbformat_minor": 0,
  "metadata": {
    "colab": {
      "provenance": [],
      "authorship_tag": "ABX9TyPQakc1rimtne66PJQJOHAT",
      "include_colab_link": true
    },
    "kernelspec": {
      "name": "python3",
      "display_name": "Python 3"
    },
    "language_info": {
      "name": "python"
    }
  },
  "cells": [
    {
      "cell_type": "markdown",
      "metadata": {
        "id": "view-in-github",
        "colab_type": "text"
      },
      "source": [
        "<a href=\"https://colab.research.google.com/github/Igor-Basilio/treinamento-h2ia/blob/master/Atividades/2%20.%20Mushroom%20Data%20Set%20ID3/2%20.%200%20Mushroom%20Data%20Set%20ID3%20%7B%20Sklearn%20%7D.ipynb\" target=\"_parent\"><img src=\"https://colab.research.google.com/assets/colab-badge.svg\" alt=\"Open In Colab\"/></a>"
      ]
    },
    {
      "cell_type": "code",
      "execution_count": null,
      "metadata": {
        "id": "a1qSL0VyomDs"
      },
      "outputs": [],
      "source": [
        "from google.colab import files\n",
        "import urllib.request\n",
        "import pandas as pd\n",
        "import numpy as np\n",
        "from sklearn.preprocessing import LabelEncoder\n",
        "from sklearn.model_selection import train_test_split\n",
        "from sklearn.tree import DecisionTreeClassifier, export_graphviz\n",
        "from sklearn.metrics import accuracy_score, confusion_matrix, classification_report\n",
        "import graphviz\n",
        "from IPython.display import IFrame"
      ]
    },
    {
      "cell_type": "code",
      "source": [
        "# Faz upload do dataset do meu google drive para o colab \n",
        " \n",
        "!gdown \"https://drive.google.com/uc?id=1CYfKf2od19lCdo1Pzu2PkSaL8wwBnP5T\" -O \"agaricus-lepiota.data\""
      ],
      "metadata": {
        "colab": {
          "base_uri": "https://localhost:8080/"
        },
        "id": "iR9_kw0Kpsil",
        "outputId": "9b2d6361-c6a2-4d6c-92c1-d1d19a9780dd"
      },
      "execution_count": null,
      "outputs": [
        {
          "output_type": "stream",
          "name": "stdout",
          "text": [
            "Downloading...\n",
            "From: https://drive.google.com/uc?id=1CYfKf2od19lCdo1Pzu2PkSaL8wwBnP5T\n",
            "To: /content/agaricus-lepiota.data\n",
            "\r  0% 0.00/374k [00:00<?, ?B/s]\r100% 374k/374k [00:00<00:00, 97.0MB/s]\n"
          ]
        }
      ]
    },
    {
      "cell_type": "code",
      "source": [
        "# Lendo o arquivo em formato csv com pandas\n",
        "dados = pd.read_csv(\"agaricus-lepiota.data\" , header = None)\n",
        "\n",
        "# Mostra o conteudo da váriavel 'dados' \n",
        "dados"
      ],
      "metadata": {
        "id": "ZvslPFa-t5RH"
      },
      "execution_count": null,
      "outputs": []
    },
    {
      "cell_type": "code",
      "source": [
        "# Mudando de string para númerico\n",
        "\n",
        "dados = dados.apply(LabelEncoder().fit_transform)\n",
        "\n",
        "dados"
      ],
      "metadata": {
        "id": "WJXrkRPrwNB7"
      },
      "execution_count": null,
      "outputs": []
    },
    {
      "cell_type": "code",
      "source": [
        "# Criando datasets de treinamento e teste\n",
        "\n",
        "X_train, X_test, y_train, y_test = train_test_split(dados.iloc[:, 1:], dados.iloc[:, 0], test_size=0.3, random_state=42)\n"
      ],
      "metadata": {
        "id": "l7rC1ysPwRxB"
      },
      "execution_count": null,
      "outputs": []
    },
    {
      "cell_type": "code",
      "source": [
        "# Cria a árvore \n",
        "\n",
        "tree = DecisionTreeClassifier(criterion='entropy')\n",
        "tree.fit(X_train, y_train)"
      ],
      "metadata": {
        "colab": {
          "base_uri": "https://localhost:8080/",
          "height": 75
        },
        "id": "j4eTEmXewRy0",
        "outputId": "95cbba9d-88db-4c96-cec9-fac765ad27ec"
      },
      "execution_count": null,
      "outputs": [
        {
          "output_type": "execute_result",
          "data": {
            "text/plain": [
              "DecisionTreeClassifier(criterion='entropy')"
            ],
            "text/html": [
              "<style>#sk-container-id-9 {color: black;background-color: white;}#sk-container-id-9 pre{padding: 0;}#sk-container-id-9 div.sk-toggleable {background-color: white;}#sk-container-id-9 label.sk-toggleable__label {cursor: pointer;display: block;width: 100%;margin-bottom: 0;padding: 0.3em;box-sizing: border-box;text-align: center;}#sk-container-id-9 label.sk-toggleable__label-arrow:before {content: \"▸\";float: left;margin-right: 0.25em;color: #696969;}#sk-container-id-9 label.sk-toggleable__label-arrow:hover:before {color: black;}#sk-container-id-9 div.sk-estimator:hover label.sk-toggleable__label-arrow:before {color: black;}#sk-container-id-9 div.sk-toggleable__content {max-height: 0;max-width: 0;overflow: hidden;text-align: left;background-color: #f0f8ff;}#sk-container-id-9 div.sk-toggleable__content pre {margin: 0.2em;color: black;border-radius: 0.25em;background-color: #f0f8ff;}#sk-container-id-9 input.sk-toggleable__control:checked~div.sk-toggleable__content {max-height: 200px;max-width: 100%;overflow: auto;}#sk-container-id-9 input.sk-toggleable__control:checked~label.sk-toggleable__label-arrow:before {content: \"▾\";}#sk-container-id-9 div.sk-estimator input.sk-toggleable__control:checked~label.sk-toggleable__label {background-color: #d4ebff;}#sk-container-id-9 div.sk-label input.sk-toggleable__control:checked~label.sk-toggleable__label {background-color: #d4ebff;}#sk-container-id-9 input.sk-hidden--visually {border: 0;clip: rect(1px 1px 1px 1px);clip: rect(1px, 1px, 1px, 1px);height: 1px;margin: -1px;overflow: hidden;padding: 0;position: absolute;width: 1px;}#sk-container-id-9 div.sk-estimator {font-family: monospace;background-color: #f0f8ff;border: 1px dotted black;border-radius: 0.25em;box-sizing: border-box;margin-bottom: 0.5em;}#sk-container-id-9 div.sk-estimator:hover {background-color: #d4ebff;}#sk-container-id-9 div.sk-parallel-item::after {content: \"\";width: 100%;border-bottom: 1px solid gray;flex-grow: 1;}#sk-container-id-9 div.sk-label:hover label.sk-toggleable__label {background-color: #d4ebff;}#sk-container-id-9 div.sk-serial::before {content: \"\";position: absolute;border-left: 1px solid gray;box-sizing: border-box;top: 0;bottom: 0;left: 50%;z-index: 0;}#sk-container-id-9 div.sk-serial {display: flex;flex-direction: column;align-items: center;background-color: white;padding-right: 0.2em;padding-left: 0.2em;position: relative;}#sk-container-id-9 div.sk-item {position: relative;z-index: 1;}#sk-container-id-9 div.sk-parallel {display: flex;align-items: stretch;justify-content: center;background-color: white;position: relative;}#sk-container-id-9 div.sk-item::before, #sk-container-id-9 div.sk-parallel-item::before {content: \"\";position: absolute;border-left: 1px solid gray;box-sizing: border-box;top: 0;bottom: 0;left: 50%;z-index: -1;}#sk-container-id-9 div.sk-parallel-item {display: flex;flex-direction: column;z-index: 1;position: relative;background-color: white;}#sk-container-id-9 div.sk-parallel-item:first-child::after {align-self: flex-end;width: 50%;}#sk-container-id-9 div.sk-parallel-item:last-child::after {align-self: flex-start;width: 50%;}#sk-container-id-9 div.sk-parallel-item:only-child::after {width: 0;}#sk-container-id-9 div.sk-dashed-wrapped {border: 1px dashed gray;margin: 0 0.4em 0.5em 0.4em;box-sizing: border-box;padding-bottom: 0.4em;background-color: white;}#sk-container-id-9 div.sk-label label {font-family: monospace;font-weight: bold;display: inline-block;line-height: 1.2em;}#sk-container-id-9 div.sk-label-container {text-align: center;}#sk-container-id-9 div.sk-container {/* jupyter's `normalize.less` sets `[hidden] { display: none; }` but bootstrap.min.css set `[hidden] { display: none !important; }` so we also need the `!important` here to be able to override the default hidden behavior on the sphinx rendered scikit-learn.org. See: https://github.com/scikit-learn/scikit-learn/issues/21755 */display: inline-block !important;position: relative;}#sk-container-id-9 div.sk-text-repr-fallback {display: none;}</style><div id=\"sk-container-id-9\" class=\"sk-top-container\"><div class=\"sk-text-repr-fallback\"><pre>DecisionTreeClassifier(criterion=&#x27;entropy&#x27;)</pre><b>In a Jupyter environment, please rerun this cell to show the HTML representation or trust the notebook. <br />On GitHub, the HTML representation is unable to render, please try loading this page with nbviewer.org.</b></div><div class=\"sk-container\" hidden><div class=\"sk-item\"><div class=\"sk-estimator sk-toggleable\"><input class=\"sk-toggleable__control sk-hidden--visually\" id=\"sk-estimator-id-9\" type=\"checkbox\" checked><label for=\"sk-estimator-id-9\" class=\"sk-toggleable__label sk-toggleable__label-arrow\">DecisionTreeClassifier</label><div class=\"sk-toggleable__content\"><pre>DecisionTreeClassifier(criterion=&#x27;entropy&#x27;)</pre></div></div></div></div></div>"
            ]
          },
          "metadata": {},
          "execution_count": 106
        }
      ]
    },
    {
      "cell_type": "code",
      "source": [
        "\n",
        "# Mostra a árvore com a biblioteca graphviz\n",
        "\n",
        "features=[  \"cap-shape\",\n",
        "            \"cap-surface\",\n",
        "            \"cap-color\",\n",
        "            \"bruises\",\n",
        "            \"odor\",\n",
        "            \"gill-attachment\",\n",
        "            \"gill-spacing\",\n",
        "            \"gill-size\",\n",
        "            \"gill-color\",\n",
        "            \"stalk-shape\",\n",
        "            \"stalk-root\",\n",
        "            \"stalk-surface-above-ring\",\n",
        "            \"stalk-surface-below-ring\",\n",
        "            \"stalk-color-above-ring\",\n",
        "            \"stalk-color-below-ring\",\n",
        "            \"veil-type\",\n",
        "            \"veil-color\",\n",
        "            \"ring-number\",\n",
        "            \"ring-type\",\n",
        "            \"spore-print-color\",\n",
        "            \"population\",\n",
        "            \"habitat\"                ]\n",
        "\n",
        "\n",
        "dot_data = export_graphviz(tree, out_file=None, feature_names=features, class_names=['Poisonous' , 'Edible'], filled=True, rounded=True, special_characters=True)\n",
        "graph = graphviz.Source(dot_data)\n",
        "graph.render('decision_tree')\n",
        "\n",
        "graph"
      ],
      "metadata": {
        "colab": {
          "base_uri": "https://localhost:8080/",
          "height": 1000
        },
        "id": "rMKHqU5FwR1F",
        "outputId": "458ba245-8b07-4d90-ecdd-acd85d1c6c07"
      },
      "execution_count": null,
      "outputs": [
        {
          "output_type": "execute_result",
          "data": {
            "image/svg+xml": "<?xml version=\"1.0\" encoding=\"UTF-8\" standalone=\"no\"?>\n<!DOCTYPE svg PUBLIC \"-//W3C//DTD SVG 1.1//EN\"\n \"http://www.w3.org/Graphics/SVG/1.1/DTD/svg11.dtd\">\n<!-- Generated by graphviz version 2.43.0 (0)\n -->\n<!-- Title: Tree Pages: 1 -->\n<svg width=\"962pt\" height=\"909pt\"\n viewBox=\"0.00 0.00 961.50 909.00\" xmlns=\"http://www.w3.org/2000/svg\" xmlns:xlink=\"http://www.w3.org/1999/xlink\">\n<g id=\"graph0\" class=\"graph\" transform=\"scale(1 1) rotate(0) translate(4 905)\">\n<title>Tree</title>\n<polygon fill=\"white\" stroke=\"transparent\" points=\"-4,4 -4,-905 957.5,-905 957.5,4 -4,4\"/>\n<!-- 0 -->\n<g id=\"node1\" class=\"node\">\n<title>0</title>\n<path fill=\"#fdf6f1\" stroke=\"black\" d=\"M258.5,-901C258.5,-901 142.5,-901 142.5,-901 136.5,-901 130.5,-895 130.5,-889 130.5,-889 130.5,-830 130.5,-830 130.5,-824 136.5,-818 142.5,-818 142.5,-818 258.5,-818 258.5,-818 264.5,-818 270.5,-824 270.5,-830 270.5,-830 270.5,-889 270.5,-889 270.5,-895 264.5,-901 258.5,-901\"/>\n<text text-anchor=\"start\" x=\"158\" y=\"-885.8\" font-family=\"Helvetica,sans-Serif\" font-size=\"14.00\">gill&#45;color ≤ 0.5</text>\n<text text-anchor=\"start\" x=\"153\" y=\"-870.8\" font-family=\"Helvetica,sans-Serif\" font-size=\"14.00\">entropy = 0.999</text>\n<text text-anchor=\"start\" x=\"152\" y=\"-855.8\" font-family=\"Helvetica,sans-Serif\" font-size=\"14.00\">samples = 5686</text>\n<text text-anchor=\"start\" x=\"138.5\" y=\"-840.8\" font-family=\"Helvetica,sans-Serif\" font-size=\"14.00\">value = [2951, 2735]</text>\n<text text-anchor=\"start\" x=\"145.5\" y=\"-825.8\" font-family=\"Helvetica,sans-Serif\" font-size=\"14.00\">class = Poisonous</text>\n</g>\n<!-- 1 -->\n<g id=\"node2\" class=\"node\">\n<title>1</title>\n<path fill=\"#399de5\" stroke=\"black\" d=\"M172,-774.5C172,-774.5 79,-774.5 79,-774.5 73,-774.5 67,-768.5 67,-762.5 67,-762.5 67,-718.5 67,-718.5 67,-712.5 73,-706.5 79,-706.5 79,-706.5 172,-706.5 172,-706.5 178,-706.5 184,-712.5 184,-718.5 184,-718.5 184,-762.5 184,-762.5 184,-768.5 178,-774.5 172,-774.5\"/>\n<text text-anchor=\"start\" x=\"85.5\" y=\"-759.3\" font-family=\"Helvetica,sans-Serif\" font-size=\"14.00\">entropy = 0.0</text>\n<text text-anchor=\"start\" x=\"77\" y=\"-744.3\" font-family=\"Helvetica,sans-Serif\" font-size=\"14.00\">samples = 1216</text>\n<text text-anchor=\"start\" x=\"75\" y=\"-729.3\" font-family=\"Helvetica,sans-Serif\" font-size=\"14.00\">value = [0, 1216]</text>\n<text text-anchor=\"start\" x=\"83\" y=\"-714.3\" font-family=\"Helvetica,sans-Serif\" font-size=\"14.00\">class = Edible</text>\n</g>\n<!-- 0&#45;&gt;1 -->\n<g id=\"edge1\" class=\"edge\">\n<title>0&#45;&gt;1</title>\n<path fill=\"none\" stroke=\"black\" d=\"M174.48,-817.91C167.26,-806.65 159.42,-794.42 152.17,-783.11\"/>\n<polygon fill=\"black\" stroke=\"black\" points=\"155.1,-781.2 146.76,-774.67 149.21,-784.97 155.1,-781.2\"/>\n<text text-anchor=\"middle\" x=\"141.42\" y=\"-795.39\" font-family=\"Helvetica,sans-Serif\" font-size=\"14.00\">True</text>\n</g>\n<!-- 2 -->\n<g id=\"node3\" class=\"node\">\n<title>2</title>\n<path fill=\"#f2c29f\" stroke=\"black\" d=\"M339,-782C339,-782 214,-782 214,-782 208,-782 202,-776 202,-770 202,-770 202,-711 202,-711 202,-705 208,-699 214,-699 214,-699 339,-699 339,-699 345,-699 351,-705 351,-711 351,-711 351,-770 351,-770 351,-776 345,-782 339,-782\"/>\n<text text-anchor=\"start\" x=\"210\" y=\"-766.8\" font-family=\"Helvetica,sans-Serif\" font-size=\"14.00\">spore&#45;print&#45;color ≤ 1.5</text>\n<text text-anchor=\"start\" x=\"229\" y=\"-751.8\" font-family=\"Helvetica,sans-Serif\" font-size=\"14.00\">entropy = 0.925</text>\n<text text-anchor=\"start\" x=\"228\" y=\"-736.8\" font-family=\"Helvetica,sans-Serif\" font-size=\"14.00\">samples = 4470</text>\n<text text-anchor=\"start\" x=\"214.5\" y=\"-721.8\" font-family=\"Helvetica,sans-Serif\" font-size=\"14.00\">value = [2951, 1519]</text>\n<text text-anchor=\"start\" x=\"221.5\" y=\"-706.8\" font-family=\"Helvetica,sans-Serif\" font-size=\"14.00\">class = Poisonous</text>\n</g>\n<!-- 0&#45;&gt;2 -->\n<g id=\"edge2\" class=\"edge\">\n<title>0&#45;&gt;2</title>\n<path fill=\"none\" stroke=\"black\" d=\"M226.87,-817.91C232.59,-809.1 238.69,-799.7 244.6,-790.61\"/>\n<polygon fill=\"black\" stroke=\"black\" points=\"247.67,-792.31 250.18,-782.02 241.8,-788.5 247.67,-792.31\"/>\n<text text-anchor=\"middle\" x=\"255.37\" y=\"-802.78\" font-family=\"Helvetica,sans-Serif\" font-size=\"14.00\">False</text>\n</g>\n<!-- 3 -->\n<g id=\"node4\" class=\"node\">\n<title>3</title>\n<path fill=\"#46a3e7\" stroke=\"black\" d=\"M249,-663C249,-663 148,-663 148,-663 142,-663 136,-657 136,-651 136,-651 136,-592 136,-592 136,-586 142,-580 148,-580 148,-580 249,-580 249,-580 255,-580 261,-586 261,-592 261,-592 261,-651 261,-651 261,-657 255,-663 249,-663\"/>\n<text text-anchor=\"start\" x=\"168\" y=\"-647.8\" font-family=\"Helvetica,sans-Serif\" font-size=\"14.00\">odor ≤ 3.5</text>\n<text text-anchor=\"start\" x=\"151\" y=\"-632.8\" font-family=\"Helvetica,sans-Serif\" font-size=\"14.00\">entropy = 0.329</text>\n<text text-anchor=\"start\" x=\"150\" y=\"-617.8\" font-family=\"Helvetica,sans-Serif\" font-size=\"14.00\">samples = 1176</text>\n<text text-anchor=\"start\" x=\"144\" y=\"-602.8\" font-family=\"Helvetica,sans-Serif\" font-size=\"14.00\">value = [71, 1105]</text>\n<text text-anchor=\"start\" x=\"156\" y=\"-587.8\" font-family=\"Helvetica,sans-Serif\" font-size=\"14.00\">class = Edible</text>\n</g>\n<!-- 2&#45;&gt;3 -->\n<g id=\"edge3\" class=\"edge\">\n<title>2&#45;&gt;3</title>\n<path fill=\"none\" stroke=\"black\" d=\"M249.44,-698.91C243.57,-690.1 237.3,-680.7 231.24,-671.61\"/>\n<polygon fill=\"black\" stroke=\"black\" points=\"233.97,-669.4 225.51,-663.02 228.15,-673.28 233.97,-669.4\"/>\n</g>\n<!-- 6 -->\n<g id=\"node7\" class=\"node\">\n<title>6</title>\n<path fill=\"#e99355\" stroke=\"black\" d=\"M408.5,-663C408.5,-663 300.5,-663 300.5,-663 294.5,-663 288.5,-657 288.5,-651 288.5,-651 288.5,-592 288.5,-592 288.5,-586 294.5,-580 300.5,-580 300.5,-580 408.5,-580 408.5,-580 414.5,-580 420.5,-586 420.5,-592 420.5,-592 420.5,-651 420.5,-651 420.5,-657 414.5,-663 408.5,-663\"/>\n<text text-anchor=\"start\" x=\"315\" y=\"-647.8\" font-family=\"Helvetica,sans-Serif\" font-size=\"14.00\">gill&#45;size ≤ 0.5</text>\n<text text-anchor=\"start\" x=\"307\" y=\"-632.8\" font-family=\"Helvetica,sans-Serif\" font-size=\"14.00\">entropy = 0.545</text>\n<text text-anchor=\"start\" x=\"306\" y=\"-617.8\" font-family=\"Helvetica,sans-Serif\" font-size=\"14.00\">samples = 3294</text>\n<text text-anchor=\"start\" x=\"296.5\" y=\"-602.8\" font-family=\"Helvetica,sans-Serif\" font-size=\"14.00\">value = [2880, 414]</text>\n<text text-anchor=\"start\" x=\"299.5\" y=\"-587.8\" font-family=\"Helvetica,sans-Serif\" font-size=\"14.00\">class = Poisonous</text>\n</g>\n<!-- 2&#45;&gt;6 -->\n<g id=\"edge6\" class=\"edge\">\n<title>2&#45;&gt;6</title>\n<path fill=\"none\" stroke=\"black\" d=\"M303.56,-698.91C309.43,-690.1 315.7,-680.7 321.76,-671.61\"/>\n<polygon fill=\"black\" stroke=\"black\" points=\"324.85,-673.28 327.49,-663.02 319.03,-669.4 324.85,-673.28\"/>\n</g>\n<!-- 4 -->\n<g id=\"node5\" class=\"node\">\n<title>4</title>\n<path fill=\"#399de5\" stroke=\"black\" d=\"M105,-536.5C105,-536.5 12,-536.5 12,-536.5 6,-536.5 0,-530.5 0,-524.5 0,-524.5 0,-480.5 0,-480.5 0,-474.5 6,-468.5 12,-468.5 12,-468.5 105,-468.5 105,-468.5 111,-468.5 117,-474.5 117,-480.5 117,-480.5 117,-524.5 117,-524.5 117,-530.5 111,-536.5 105,-536.5\"/>\n<text text-anchor=\"start\" x=\"18.5\" y=\"-521.3\" font-family=\"Helvetica,sans-Serif\" font-size=\"14.00\">entropy = 0.0</text>\n<text text-anchor=\"start\" x=\"10\" y=\"-506.3\" font-family=\"Helvetica,sans-Serif\" font-size=\"14.00\">samples = 1105</text>\n<text text-anchor=\"start\" x=\"8\" y=\"-491.3\" font-family=\"Helvetica,sans-Serif\" font-size=\"14.00\">value = [0, 1105]</text>\n<text text-anchor=\"start\" x=\"16\" y=\"-476.3\" font-family=\"Helvetica,sans-Serif\" font-size=\"14.00\">class = Edible</text>\n</g>\n<!-- 3&#45;&gt;4 -->\n<g id=\"edge4\" class=\"edge\">\n<title>3&#45;&gt;4</title>\n<path fill=\"none\" stroke=\"black\" d=\"M149.93,-579.91C135.67,-567.99 120.09,-554.98 105.91,-543.12\"/>\n<polygon fill=\"black\" stroke=\"black\" points=\"108.1,-540.39 98.19,-536.67 103.62,-545.77 108.1,-540.39\"/>\n</g>\n<!-- 5 -->\n<g id=\"node6\" class=\"node\">\n<title>5</title>\n<path fill=\"#e58139\" stroke=\"black\" d=\"M249.5,-536.5C249.5,-536.5 147.5,-536.5 147.5,-536.5 141.5,-536.5 135.5,-530.5 135.5,-524.5 135.5,-524.5 135.5,-480.5 135.5,-480.5 135.5,-474.5 141.5,-468.5 147.5,-468.5 147.5,-468.5 249.5,-468.5 249.5,-468.5 255.5,-468.5 261.5,-474.5 261.5,-480.5 261.5,-480.5 261.5,-524.5 261.5,-524.5 261.5,-530.5 255.5,-536.5 249.5,-536.5\"/>\n<text text-anchor=\"start\" x=\"158.5\" y=\"-521.3\" font-family=\"Helvetica,sans-Serif\" font-size=\"14.00\">entropy = 0.0</text>\n<text text-anchor=\"start\" x=\"157.5\" y=\"-506.3\" font-family=\"Helvetica,sans-Serif\" font-size=\"14.00\">samples = 71</text>\n<text text-anchor=\"start\" x=\"155.5\" y=\"-491.3\" font-family=\"Helvetica,sans-Serif\" font-size=\"14.00\">value = [71, 0]</text>\n<text text-anchor=\"start\" x=\"143.5\" y=\"-476.3\" font-family=\"Helvetica,sans-Serif\" font-size=\"14.00\">class = Poisonous</text>\n</g>\n<!-- 3&#45;&gt;5 -->\n<g id=\"edge5\" class=\"edge\">\n<title>3&#45;&gt;5</title>\n<path fill=\"none\" stroke=\"black\" d=\"M198.5,-579.91C198.5,-569.2 198.5,-557.62 198.5,-546.78\"/>\n<polygon fill=\"black\" stroke=\"black\" points=\"202,-546.67 198.5,-536.67 195,-546.67 202,-546.67\"/>\n</g>\n<!-- 7 -->\n<g id=\"node8\" class=\"node\">\n<title>7</title>\n<path fill=\"#e6853f\" stroke=\"black\" d=\"M417,-544C417,-544 292,-544 292,-544 286,-544 280,-538 280,-532 280,-532 280,-473 280,-473 280,-467 286,-461 292,-461 292,-461 417,-461 417,-461 423,-461 429,-467 429,-473 429,-473 429,-532 429,-532 429,-538 423,-544 417,-544\"/>\n<text text-anchor=\"start\" x=\"288\" y=\"-528.8\" font-family=\"Helvetica,sans-Serif\" font-size=\"14.00\">spore&#45;print&#45;color ≤ 4.5</text>\n<text text-anchor=\"start\" x=\"307\" y=\"-513.8\" font-family=\"Helvetica,sans-Serif\" font-size=\"14.00\">entropy = 0.183</text>\n<text text-anchor=\"start\" x=\"306\" y=\"-498.8\" font-family=\"Helvetica,sans-Serif\" font-size=\"14.00\">samples = 2802</text>\n<text text-anchor=\"start\" x=\"300\" y=\"-483.8\" font-family=\"Helvetica,sans-Serif\" font-size=\"14.00\">value = [2724, 78]</text>\n<text text-anchor=\"start\" x=\"299.5\" y=\"-468.8\" font-family=\"Helvetica,sans-Serif\" font-size=\"14.00\">class = Poisonous</text>\n</g>\n<!-- 6&#45;&gt;7 -->\n<g id=\"edge7\" class=\"edge\">\n<title>6&#45;&gt;7</title>\n<path fill=\"none\" stroke=\"black\" d=\"M354.5,-579.91C354.5,-571.65 354.5,-562.86 354.5,-554.3\"/>\n<polygon fill=\"black\" stroke=\"black\" points=\"358,-554.02 354.5,-544.02 351,-554.02 358,-554.02\"/>\n</g>\n<!-- 16 -->\n<g id=\"node17\" class=\"node\">\n<title>16</title>\n<path fill=\"#95caf1\" stroke=\"black\" d=\"M603,-544C603,-544 502,-544 502,-544 496,-544 490,-538 490,-532 490,-532 490,-473 490,-473 490,-467 496,-461 502,-461 502,-461 603,-461 603,-461 609,-461 615,-467 615,-473 615,-473 615,-532 615,-532 615,-538 609,-544 603,-544\"/>\n<text text-anchor=\"start\" x=\"522\" y=\"-528.8\" font-family=\"Helvetica,sans-Serif\" font-size=\"14.00\">odor ≤ 5.5</text>\n<text text-anchor=\"start\" x=\"505\" y=\"-513.8\" font-family=\"Helvetica,sans-Serif\" font-size=\"14.00\">entropy = 0.901</text>\n<text text-anchor=\"start\" x=\"507.5\" y=\"-498.8\" font-family=\"Helvetica,sans-Serif\" font-size=\"14.00\">samples = 492</text>\n<text text-anchor=\"start\" x=\"498\" y=\"-483.8\" font-family=\"Helvetica,sans-Serif\" font-size=\"14.00\">value = [156, 336]</text>\n<text text-anchor=\"start\" x=\"510\" y=\"-468.8\" font-family=\"Helvetica,sans-Serif\" font-size=\"14.00\">class = Edible</text>\n</g>\n<!-- 6&#45;&gt;16 -->\n<g id=\"edge16\" class=\"edge\">\n<title>6&#45;&gt;16</title>\n<path fill=\"none\" stroke=\"black\" d=\"M420.71,-581.38C440.1,-569.92 461.38,-557.34 481.08,-545.7\"/>\n<polygon fill=\"black\" stroke=\"black\" points=\"482.88,-548.7 489.71,-540.6 479.32,-542.68 482.88,-548.7\"/>\n</g>\n<!-- 8 -->\n<g id=\"node9\" class=\"node\">\n<title>8</title>\n<path fill=\"#e58139\" stroke=\"black\" d=\"M261.5,-417.5C261.5,-417.5 159.5,-417.5 159.5,-417.5 153.5,-417.5 147.5,-411.5 147.5,-405.5 147.5,-405.5 147.5,-361.5 147.5,-361.5 147.5,-355.5 153.5,-349.5 159.5,-349.5 159.5,-349.5 261.5,-349.5 261.5,-349.5 267.5,-349.5 273.5,-355.5 273.5,-361.5 273.5,-361.5 273.5,-405.5 273.5,-405.5 273.5,-411.5 267.5,-417.5 261.5,-417.5\"/>\n<text text-anchor=\"start\" x=\"170.5\" y=\"-402.3\" font-family=\"Helvetica,sans-Serif\" font-size=\"14.00\">entropy = 0.0</text>\n<text text-anchor=\"start\" x=\"162\" y=\"-387.3\" font-family=\"Helvetica,sans-Serif\" font-size=\"14.00\">samples = 2315</text>\n<text text-anchor=\"start\" x=\"160\" y=\"-372.3\" font-family=\"Helvetica,sans-Serif\" font-size=\"14.00\">value = [2315, 0]</text>\n<text text-anchor=\"start\" x=\"155.5\" y=\"-357.3\" font-family=\"Helvetica,sans-Serif\" font-size=\"14.00\">class = Poisonous</text>\n</g>\n<!-- 7&#45;&gt;8 -->\n<g id=\"edge8\" class=\"edge\">\n<title>7&#45;&gt;8</title>\n<path fill=\"none\" stroke=\"black\" d=\"M304.54,-460.91C289.87,-448.99 273.85,-435.98 259.26,-424.12\"/>\n<polygon fill=\"black\" stroke=\"black\" points=\"261.29,-421.26 251.32,-417.67 256.87,-426.69 261.29,-421.26\"/>\n</g>\n<!-- 9 -->\n<g id=\"node10\" class=\"node\">\n<title>9</title>\n<path fill=\"#ea995f\" stroke=\"black\" d=\"M405.5,-425C405.5,-425 303.5,-425 303.5,-425 297.5,-425 291.5,-419 291.5,-413 291.5,-413 291.5,-354 291.5,-354 291.5,-348 297.5,-342 303.5,-342 303.5,-342 405.5,-342 405.5,-342 411.5,-342 417.5,-348 417.5,-354 417.5,-354 417.5,-413 417.5,-413 417.5,-419 411.5,-425 405.5,-425\"/>\n<text text-anchor=\"start\" x=\"309.5\" y=\"-409.8\" font-family=\"Helvetica,sans-Serif\" font-size=\"14.00\">stalk&#45;root ≤ 0.5</text>\n<text text-anchor=\"start\" x=\"307\" y=\"-394.8\" font-family=\"Helvetica,sans-Serif\" font-size=\"14.00\">entropy = 0.635</text>\n<text text-anchor=\"start\" x=\"309.5\" y=\"-379.8\" font-family=\"Helvetica,sans-Serif\" font-size=\"14.00\">samples = 487</text>\n<text text-anchor=\"start\" x=\"304\" y=\"-364.8\" font-family=\"Helvetica,sans-Serif\" font-size=\"14.00\">value = [409, 78]</text>\n<text text-anchor=\"start\" x=\"299.5\" y=\"-349.8\" font-family=\"Helvetica,sans-Serif\" font-size=\"14.00\">class = Poisonous</text>\n</g>\n<!-- 7&#45;&gt;9 -->\n<g id=\"edge9\" class=\"edge\">\n<title>7&#45;&gt;9</title>\n<path fill=\"none\" stroke=\"black\" d=\"M354.5,-460.91C354.5,-452.65 354.5,-443.86 354.5,-435.3\"/>\n<polygon fill=\"black\" stroke=\"black\" points=\"358,-435.02 354.5,-425.02 351,-435.02 358,-435.02\"/>\n</g>\n<!-- 10 -->\n<g id=\"node11\" class=\"node\">\n<title>10</title>\n<path fill=\"#e58139\" stroke=\"black\" d=\"M268.5,-298.5C268.5,-298.5 166.5,-298.5 166.5,-298.5 160.5,-298.5 154.5,-292.5 154.5,-286.5 154.5,-286.5 154.5,-242.5 154.5,-242.5 154.5,-236.5 160.5,-230.5 166.5,-230.5 166.5,-230.5 268.5,-230.5 268.5,-230.5 274.5,-230.5 280.5,-236.5 280.5,-242.5 280.5,-242.5 280.5,-286.5 280.5,-286.5 280.5,-292.5 274.5,-298.5 268.5,-298.5\"/>\n<text text-anchor=\"start\" x=\"177.5\" y=\"-283.3\" font-family=\"Helvetica,sans-Serif\" font-size=\"14.00\">entropy = 0.0</text>\n<text text-anchor=\"start\" x=\"172.5\" y=\"-268.3\" font-family=\"Helvetica,sans-Serif\" font-size=\"14.00\">samples = 374</text>\n<text text-anchor=\"start\" x=\"170.5\" y=\"-253.3\" font-family=\"Helvetica,sans-Serif\" font-size=\"14.00\">value = [374, 0]</text>\n<text text-anchor=\"start\" x=\"162.5\" y=\"-238.3\" font-family=\"Helvetica,sans-Serif\" font-size=\"14.00\">class = Poisonous</text>\n</g>\n<!-- 9&#45;&gt;10 -->\n<g id=\"edge10\" class=\"edge\">\n<title>9&#45;&gt;10</title>\n<path fill=\"none\" stroke=\"black\" d=\"M306.97,-341.91C293.14,-330.1 278.06,-317.22 264.28,-305.45\"/>\n<polygon fill=\"black\" stroke=\"black\" points=\"266.21,-302.5 256.34,-298.67 261.67,-307.82 266.21,-302.5\"/>\n</g>\n<!-- 11 -->\n<g id=\"node12\" class=\"node\">\n<title>11</title>\n<path fill=\"#92c9f1\" stroke=\"black\" d=\"M398,-306C398,-306 311,-306 311,-306 305,-306 299,-300 299,-294 299,-294 299,-235 299,-235 299,-229 305,-223 311,-223 311,-223 398,-223 398,-223 404,-223 410,-229 410,-235 410,-235 410,-294 410,-294 410,-300 404,-306 398,-306\"/>\n<text text-anchor=\"start\" x=\"317\" y=\"-290.8\" font-family=\"Helvetica,sans-Serif\" font-size=\"14.00\">habitat ≤ 3.5</text>\n<text text-anchor=\"start\" x=\"307\" y=\"-275.8\" font-family=\"Helvetica,sans-Serif\" font-size=\"14.00\">entropy = 0.893</text>\n<text text-anchor=\"start\" x=\"309.5\" y=\"-260.8\" font-family=\"Helvetica,sans-Serif\" font-size=\"14.00\">samples = 113</text>\n<text text-anchor=\"start\" x=\"307.5\" y=\"-245.8\" font-family=\"Helvetica,sans-Serif\" font-size=\"14.00\">value = [35, 78]</text>\n<text text-anchor=\"start\" x=\"312\" y=\"-230.8\" font-family=\"Helvetica,sans-Serif\" font-size=\"14.00\">class = Edible</text>\n</g>\n<!-- 9&#45;&gt;11 -->\n<g id=\"edge11\" class=\"edge\">\n<title>9&#45;&gt;11</title>\n<path fill=\"none\" stroke=\"black\" d=\"M354.5,-341.91C354.5,-333.65 354.5,-324.86 354.5,-316.3\"/>\n<polygon fill=\"black\" stroke=\"black\" points=\"358,-316.02 354.5,-306.02 351,-316.02 358,-316.02\"/>\n</g>\n<!-- 12 -->\n<g id=\"node13\" class=\"node\">\n<title>12</title>\n<path fill=\"#4ba6e7\" stroke=\"black\" d=\"M261,-187C261,-187 90,-187 90,-187 84,-187 78,-181 78,-175 78,-175 78,-116 78,-116 78,-110 84,-104 90,-104 90,-104 261,-104 261,-104 267,-104 273,-110 273,-116 273,-116 273,-175 273,-175 273,-181 267,-187 261,-187\"/>\n<text text-anchor=\"start\" x=\"86\" y=\"-171.8\" font-family=\"Helvetica,sans-Serif\" font-size=\"14.00\">stalk&#45;surface&#45;above&#45;ring ≤ 2.5</text>\n<text text-anchor=\"start\" x=\"131.5\" y=\"-156.8\" font-family=\"Helvetica,sans-Serif\" font-size=\"14.00\">entropy = 0.41</text>\n<text text-anchor=\"start\" x=\"134.5\" y=\"-141.8\" font-family=\"Helvetica,sans-Serif\" font-size=\"14.00\">samples = 85</text>\n<text text-anchor=\"start\" x=\"132.5\" y=\"-126.8\" font-family=\"Helvetica,sans-Serif\" font-size=\"14.00\">value = [7, 78]</text>\n<text text-anchor=\"start\" x=\"133\" y=\"-111.8\" font-family=\"Helvetica,sans-Serif\" font-size=\"14.00\">class = Edible</text>\n</g>\n<!-- 11&#45;&gt;12 -->\n<g id=\"edge12\" class=\"edge\">\n<title>11&#45;&gt;12</title>\n<path fill=\"none\" stroke=\"black\" d=\"M298.84,-227.12C282.18,-216.23 263.67,-204.13 246.17,-192.69\"/>\n<polygon fill=\"black\" stroke=\"black\" points=\"247.96,-189.68 237.67,-187.14 244.13,-195.54 247.96,-189.68\"/>\n</g>\n<!-- 15 -->\n<g id=\"node16\" class=\"node\">\n<title>15</title>\n<path fill=\"#e58139\" stroke=\"black\" d=\"M405.5,-179.5C405.5,-179.5 303.5,-179.5 303.5,-179.5 297.5,-179.5 291.5,-173.5 291.5,-167.5 291.5,-167.5 291.5,-123.5 291.5,-123.5 291.5,-117.5 297.5,-111.5 303.5,-111.5 303.5,-111.5 405.5,-111.5 405.5,-111.5 411.5,-111.5 417.5,-117.5 417.5,-123.5 417.5,-123.5 417.5,-167.5 417.5,-167.5 417.5,-173.5 411.5,-179.5 405.5,-179.5\"/>\n<text text-anchor=\"start\" x=\"314.5\" y=\"-164.3\" font-family=\"Helvetica,sans-Serif\" font-size=\"14.00\">entropy = 0.0</text>\n<text text-anchor=\"start\" x=\"313.5\" y=\"-149.3\" font-family=\"Helvetica,sans-Serif\" font-size=\"14.00\">samples = 28</text>\n<text text-anchor=\"start\" x=\"311.5\" y=\"-134.3\" font-family=\"Helvetica,sans-Serif\" font-size=\"14.00\">value = [28, 0]</text>\n<text text-anchor=\"start\" x=\"299.5\" y=\"-119.3\" font-family=\"Helvetica,sans-Serif\" font-size=\"14.00\">class = Poisonous</text>\n</g>\n<!-- 11&#45;&gt;15 -->\n<g id=\"edge15\" class=\"edge\">\n<title>11&#45;&gt;15</title>\n<path fill=\"none\" stroke=\"black\" d=\"M354.5,-222.91C354.5,-212.2 354.5,-200.62 354.5,-189.78\"/>\n<polygon fill=\"black\" stroke=\"black\" points=\"358,-189.67 354.5,-179.67 351,-189.67 358,-189.67\"/>\n</g>\n<!-- 13 -->\n<g id=\"node14\" class=\"node\">\n<title>13</title>\n<path fill=\"#399de5\" stroke=\"black\" d=\"M148.5,-68C148.5,-68 70.5,-68 70.5,-68 64.5,-68 58.5,-62 58.5,-56 58.5,-56 58.5,-12 58.5,-12 58.5,-6 64.5,0 70.5,0 70.5,0 148.5,0 148.5,0 154.5,0 160.5,-6 160.5,-12 160.5,-12 160.5,-56 160.5,-56 160.5,-62 154.5,-68 148.5,-68\"/>\n<text text-anchor=\"start\" x=\"69.5\" y=\"-52.8\" font-family=\"Helvetica,sans-Serif\" font-size=\"14.00\">entropy = 0.0</text>\n<text text-anchor=\"start\" x=\"68.5\" y=\"-37.8\" font-family=\"Helvetica,sans-Serif\" font-size=\"14.00\">samples = 78</text>\n<text text-anchor=\"start\" x=\"66.5\" y=\"-22.8\" font-family=\"Helvetica,sans-Serif\" font-size=\"14.00\">value = [0, 78]</text>\n<text text-anchor=\"start\" x=\"67\" y=\"-7.8\" font-family=\"Helvetica,sans-Serif\" font-size=\"14.00\">class = Edible</text>\n</g>\n<!-- 12&#45;&gt;13 -->\n<g id=\"edge13\" class=\"edge\">\n<title>12&#45;&gt;13</title>\n<path fill=\"none\" stroke=\"black\" d=\"M150.92,-103.73C145.65,-94.97 140.06,-85.7 134.76,-76.91\"/>\n<polygon fill=\"black\" stroke=\"black\" points=\"137.73,-75.06 129.57,-68.3 131.74,-78.67 137.73,-75.06\"/>\n</g>\n<!-- 14 -->\n<g id=\"node15\" class=\"node\">\n<title>14</title>\n<path fill=\"#e58139\" stroke=\"black\" d=\"M292.5,-68C292.5,-68 190.5,-68 190.5,-68 184.5,-68 178.5,-62 178.5,-56 178.5,-56 178.5,-12 178.5,-12 178.5,-6 184.5,0 190.5,0 190.5,0 292.5,0 292.5,0 298.5,0 304.5,-6 304.5,-12 304.5,-12 304.5,-56 304.5,-56 304.5,-62 298.5,-68 292.5,-68\"/>\n<text text-anchor=\"start\" x=\"201.5\" y=\"-52.8\" font-family=\"Helvetica,sans-Serif\" font-size=\"14.00\">entropy = 0.0</text>\n<text text-anchor=\"start\" x=\"204\" y=\"-37.8\" font-family=\"Helvetica,sans-Serif\" font-size=\"14.00\">samples = 7</text>\n<text text-anchor=\"start\" x=\"202\" y=\"-22.8\" font-family=\"Helvetica,sans-Serif\" font-size=\"14.00\">value = [7, 0]</text>\n<text text-anchor=\"start\" x=\"186.5\" y=\"-7.8\" font-family=\"Helvetica,sans-Serif\" font-size=\"14.00\">class = Poisonous</text>\n</g>\n<!-- 12&#45;&gt;14 -->\n<g id=\"edge14\" class=\"edge\">\n<title>12&#45;&gt;14</title>\n<path fill=\"none\" stroke=\"black\" d=\"M200.08,-103.73C205.35,-94.97 210.94,-85.7 216.24,-76.91\"/>\n<polygon fill=\"black\" stroke=\"black\" points=\"219.26,-78.67 221.43,-68.3 213.27,-75.06 219.26,-78.67\"/>\n</g>\n<!-- 17 -->\n<g id=\"node18\" class=\"node\">\n<title>17</title>\n<path fill=\"#f1f8fd\" stroke=\"black\" d=\"M603,-425C603,-425 502,-425 502,-425 496,-425 490,-419 490,-413 490,-413 490,-354 490,-354 490,-348 496,-342 502,-342 502,-342 603,-342 603,-342 609,-342 615,-348 615,-354 615,-354 615,-413 615,-413 615,-419 609,-425 603,-425\"/>\n<text text-anchor=\"start\" x=\"522\" y=\"-409.8\" font-family=\"Helvetica,sans-Serif\" font-size=\"14.00\">odor ≤ 2.0</text>\n<text text-anchor=\"start\" x=\"505\" y=\"-394.8\" font-family=\"Helvetica,sans-Serif\" font-size=\"14.00\">entropy = 0.999</text>\n<text text-anchor=\"start\" x=\"507.5\" y=\"-379.8\" font-family=\"Helvetica,sans-Serif\" font-size=\"14.00\">samples = 324</text>\n<text text-anchor=\"start\" x=\"498\" y=\"-364.8\" font-family=\"Helvetica,sans-Serif\" font-size=\"14.00\">value = [156, 168]</text>\n<text text-anchor=\"start\" x=\"510\" y=\"-349.8\" font-family=\"Helvetica,sans-Serif\" font-size=\"14.00\">class = Edible</text>\n</g>\n<!-- 16&#45;&gt;17 -->\n<g id=\"edge17\" class=\"edge\">\n<title>16&#45;&gt;17</title>\n<path fill=\"none\" stroke=\"black\" d=\"M552.5,-460.91C552.5,-452.65 552.5,-443.86 552.5,-435.3\"/>\n<polygon fill=\"black\" stroke=\"black\" points=\"556,-435.02 552.5,-425.02 549,-435.02 556,-435.02\"/>\n</g>\n<!-- 26 -->\n<g id=\"node27\" class=\"node\">\n<title>26</title>\n<path fill=\"#399de5\" stroke=\"black\" d=\"M731.5,-417.5C731.5,-417.5 645.5,-417.5 645.5,-417.5 639.5,-417.5 633.5,-411.5 633.5,-405.5 633.5,-405.5 633.5,-361.5 633.5,-361.5 633.5,-355.5 639.5,-349.5 645.5,-349.5 645.5,-349.5 731.5,-349.5 731.5,-349.5 737.5,-349.5 743.5,-355.5 743.5,-361.5 743.5,-361.5 743.5,-405.5 743.5,-405.5 743.5,-411.5 737.5,-417.5 731.5,-417.5\"/>\n<text text-anchor=\"start\" x=\"648.5\" y=\"-402.3\" font-family=\"Helvetica,sans-Serif\" font-size=\"14.00\">entropy = 0.0</text>\n<text text-anchor=\"start\" x=\"643.5\" y=\"-387.3\" font-family=\"Helvetica,sans-Serif\" font-size=\"14.00\">samples = 168</text>\n<text text-anchor=\"start\" x=\"641.5\" y=\"-372.3\" font-family=\"Helvetica,sans-Serif\" font-size=\"14.00\">value = [0, 168]</text>\n<text text-anchor=\"start\" x=\"646\" y=\"-357.3\" font-family=\"Helvetica,sans-Serif\" font-size=\"14.00\">class = Edible</text>\n</g>\n<!-- 16&#45;&gt;26 -->\n<g id=\"edge26\" class=\"edge\">\n<title>16&#45;&gt;26</title>\n<path fill=\"none\" stroke=\"black\" d=\"M599.68,-460.91C613.41,-449.1 628.39,-436.22 642.06,-424.45\"/>\n<polygon fill=\"black\" stroke=\"black\" points=\"644.65,-426.84 649.95,-417.67 640.08,-421.54 644.65,-426.84\"/>\n</g>\n<!-- 18 -->\n<g id=\"node19\" class=\"node\">\n<title>18</title>\n<path fill=\"#66b3eb\" stroke=\"black\" d=\"M599,-306C599,-306 506,-306 506,-306 500,-306 494,-300 494,-294 494,-294 494,-235 494,-235 494,-229 500,-223 506,-223 506,-223 599,-223 599,-223 605,-223 611,-229 611,-235 611,-235 611,-294 611,-294 611,-300 605,-306 599,-306\"/>\n<text text-anchor=\"start\" x=\"522\" y=\"-290.8\" font-family=\"Helvetica,sans-Serif\" font-size=\"14.00\">odor ≤ 0.5</text>\n<text text-anchor=\"start\" x=\"505\" y=\"-275.8\" font-family=\"Helvetica,sans-Serif\" font-size=\"14.00\">entropy = 0.692</text>\n<text text-anchor=\"start\" x=\"507.5\" y=\"-260.8\" font-family=\"Helvetica,sans-Serif\" font-size=\"14.00\">samples = 167</text>\n<text text-anchor=\"start\" x=\"502\" y=\"-245.8\" font-family=\"Helvetica,sans-Serif\" font-size=\"14.00\">value = [31, 136]</text>\n<text text-anchor=\"start\" x=\"510\" y=\"-230.8\" font-family=\"Helvetica,sans-Serif\" font-size=\"14.00\">class = Edible</text>\n</g>\n<!-- 17&#45;&gt;18 -->\n<g id=\"edge18\" class=\"edge\">\n<title>17&#45;&gt;18</title>\n<path fill=\"none\" stroke=\"black\" d=\"M552.5,-341.91C552.5,-333.65 552.5,-324.86 552.5,-316.3\"/>\n<polygon fill=\"black\" stroke=\"black\" points=\"556,-316.02 552.5,-306.02 549,-316.02 556,-316.02\"/>\n</g>\n<!-- 21 -->\n<g id=\"node22\" class=\"node\">\n<title>21</title>\n<path fill=\"#eca16c\" stroke=\"black\" d=\"M855.5,-306C855.5,-306 685.5,-306 685.5,-306 679.5,-306 673.5,-300 673.5,-294 673.5,-294 673.5,-235 673.5,-235 673.5,-229 679.5,-223 685.5,-223 685.5,-223 855.5,-223 855.5,-223 861.5,-223 867.5,-229 867.5,-235 867.5,-235 867.5,-294 867.5,-294 867.5,-300 861.5,-306 855.5,-306\"/>\n<text text-anchor=\"start\" x=\"681.5\" y=\"-290.8\" font-family=\"Helvetica,sans-Serif\" font-size=\"14.00\">stalk&#45;surface&#45;below&#45;ring ≤ 2.5</text>\n<text text-anchor=\"start\" x=\"726.5\" y=\"-275.8\" font-family=\"Helvetica,sans-Serif\" font-size=\"14.00\">entropy = 0.73</text>\n<text text-anchor=\"start\" x=\"725.5\" y=\"-260.8\" font-family=\"Helvetica,sans-Serif\" font-size=\"14.00\">samples = 157</text>\n<text text-anchor=\"start\" x=\"720\" y=\"-245.8\" font-family=\"Helvetica,sans-Serif\" font-size=\"14.00\">value = [125, 32]</text>\n<text text-anchor=\"start\" x=\"715.5\" y=\"-230.8\" font-family=\"Helvetica,sans-Serif\" font-size=\"14.00\">class = Poisonous</text>\n</g>\n<!-- 17&#45;&gt;21 -->\n<g id=\"edge21\" class=\"edge\">\n<title>17&#45;&gt;21</title>\n<path fill=\"none\" stroke=\"black\" d=\"M615.27,-347.05C618.38,-345.33 621.48,-343.64 624.5,-342 643.28,-331.8 663.52,-321.04 682.78,-310.92\"/>\n<polygon fill=\"black\" stroke=\"black\" points=\"684.62,-313.91 691.85,-306.16 681.37,-307.71 684.62,-313.91\"/>\n</g>\n<!-- 19 -->\n<g id=\"node20\" class=\"node\">\n<title>19</title>\n<path fill=\"#e58139\" stroke=\"black\" d=\"M549.5,-179.5C549.5,-179.5 447.5,-179.5 447.5,-179.5 441.5,-179.5 435.5,-173.5 435.5,-167.5 435.5,-167.5 435.5,-123.5 435.5,-123.5 435.5,-117.5 441.5,-111.5 447.5,-111.5 447.5,-111.5 549.5,-111.5 549.5,-111.5 555.5,-111.5 561.5,-117.5 561.5,-123.5 561.5,-123.5 561.5,-167.5 561.5,-167.5 561.5,-173.5 555.5,-179.5 549.5,-179.5\"/>\n<text text-anchor=\"start\" x=\"458.5\" y=\"-164.3\" font-family=\"Helvetica,sans-Serif\" font-size=\"14.00\">entropy = 0.0</text>\n<text text-anchor=\"start\" x=\"457.5\" y=\"-149.3\" font-family=\"Helvetica,sans-Serif\" font-size=\"14.00\">samples = 31</text>\n<text text-anchor=\"start\" x=\"455.5\" y=\"-134.3\" font-family=\"Helvetica,sans-Serif\" font-size=\"14.00\">value = [31, 0]</text>\n<text text-anchor=\"start\" x=\"443.5\" y=\"-119.3\" font-family=\"Helvetica,sans-Serif\" font-size=\"14.00\">class = Poisonous</text>\n</g>\n<!-- 18&#45;&gt;19 -->\n<g id=\"edge19\" class=\"edge\">\n<title>18&#45;&gt;19</title>\n<path fill=\"none\" stroke=\"black\" d=\"M533.76,-222.91C528.67,-211.87 523.15,-199.9 518.01,-188.77\"/>\n<polygon fill=\"black\" stroke=\"black\" points=\"521.18,-187.28 513.81,-179.67 514.82,-190.21 521.18,-187.28\"/>\n</g>\n<!-- 20 -->\n<g id=\"node21\" class=\"node\">\n<title>20</title>\n<path fill=\"#399de5\" stroke=\"black\" d=\"M677.5,-179.5C677.5,-179.5 591.5,-179.5 591.5,-179.5 585.5,-179.5 579.5,-173.5 579.5,-167.5 579.5,-167.5 579.5,-123.5 579.5,-123.5 579.5,-117.5 585.5,-111.5 591.5,-111.5 591.5,-111.5 677.5,-111.5 677.5,-111.5 683.5,-111.5 689.5,-117.5 689.5,-123.5 689.5,-123.5 689.5,-167.5 689.5,-167.5 689.5,-173.5 683.5,-179.5 677.5,-179.5\"/>\n<text text-anchor=\"start\" x=\"594.5\" y=\"-164.3\" font-family=\"Helvetica,sans-Serif\" font-size=\"14.00\">entropy = 0.0</text>\n<text text-anchor=\"start\" x=\"589.5\" y=\"-149.3\" font-family=\"Helvetica,sans-Serif\" font-size=\"14.00\">samples = 136</text>\n<text text-anchor=\"start\" x=\"587.5\" y=\"-134.3\" font-family=\"Helvetica,sans-Serif\" font-size=\"14.00\">value = [0, 136]</text>\n<text text-anchor=\"start\" x=\"592\" y=\"-119.3\" font-family=\"Helvetica,sans-Serif\" font-size=\"14.00\">class = Edible</text>\n</g>\n<!-- 18&#45;&gt;20 -->\n<g id=\"edge20\" class=\"edge\">\n<title>18&#45;&gt;20</title>\n<path fill=\"none\" stroke=\"black\" d=\"M580.95,-222.91C588.84,-211.65 597.41,-199.42 605.34,-188.11\"/>\n<polygon fill=\"black\" stroke=\"black\" points=\"608.38,-189.86 611.25,-179.67 602.65,-185.85 608.38,-189.86\"/>\n</g>\n<!-- 22 -->\n<g id=\"node23\" class=\"node\">\n<title>22</title>\n<path fill=\"#e68641\" stroke=\"black\" d=\"M821.5,-187C821.5,-187 719.5,-187 719.5,-187 713.5,-187 707.5,-181 707.5,-175 707.5,-175 707.5,-116 707.5,-116 707.5,-110 713.5,-104 719.5,-104 719.5,-104 821.5,-104 821.5,-104 827.5,-104 833.5,-110 833.5,-116 833.5,-116 833.5,-175 833.5,-175 833.5,-181 827.5,-187 821.5,-187\"/>\n<text text-anchor=\"start\" x=\"722\" y=\"-171.8\" font-family=\"Helvetica,sans-Serif\" font-size=\"14.00\">population ≤ 2.5</text>\n<text text-anchor=\"start\" x=\"723\" y=\"-156.8\" font-family=\"Helvetica,sans-Serif\" font-size=\"14.00\">entropy = 0.235</text>\n<text text-anchor=\"start\" x=\"725.5\" y=\"-141.8\" font-family=\"Helvetica,sans-Serif\" font-size=\"14.00\">samples = 130</text>\n<text text-anchor=\"start\" x=\"723.5\" y=\"-126.8\" font-family=\"Helvetica,sans-Serif\" font-size=\"14.00\">value = [125, 5]</text>\n<text text-anchor=\"start\" x=\"715.5\" y=\"-111.8\" font-family=\"Helvetica,sans-Serif\" font-size=\"14.00\">class = Poisonous</text>\n</g>\n<!-- 21&#45;&gt;22 -->\n<g id=\"edge22\" class=\"edge\">\n<title>21&#45;&gt;22</title>\n<path fill=\"none\" stroke=\"black\" d=\"M770.5,-222.91C770.5,-214.65 770.5,-205.86 770.5,-197.3\"/>\n<polygon fill=\"black\" stroke=\"black\" points=\"774,-197.02 770.5,-187.02 767,-197.02 774,-197.02\"/>\n</g>\n<!-- 25 -->\n<g id=\"node26\" class=\"node\">\n<title>25</title>\n<path fill=\"#399de5\" stroke=\"black\" d=\"M941.5,-179.5C941.5,-179.5 863.5,-179.5 863.5,-179.5 857.5,-179.5 851.5,-173.5 851.5,-167.5 851.5,-167.5 851.5,-123.5 851.5,-123.5 851.5,-117.5 857.5,-111.5 863.5,-111.5 863.5,-111.5 941.5,-111.5 941.5,-111.5 947.5,-111.5 953.5,-117.5 953.5,-123.5 953.5,-123.5 953.5,-167.5 953.5,-167.5 953.5,-173.5 947.5,-179.5 941.5,-179.5\"/>\n<text text-anchor=\"start\" x=\"862.5\" y=\"-164.3\" font-family=\"Helvetica,sans-Serif\" font-size=\"14.00\">entropy = 0.0</text>\n<text text-anchor=\"start\" x=\"861.5\" y=\"-149.3\" font-family=\"Helvetica,sans-Serif\" font-size=\"14.00\">samples = 27</text>\n<text text-anchor=\"start\" x=\"859.5\" y=\"-134.3\" font-family=\"Helvetica,sans-Serif\" font-size=\"14.00\">value = [0, 27]</text>\n<text text-anchor=\"start\" x=\"860\" y=\"-119.3\" font-family=\"Helvetica,sans-Serif\" font-size=\"14.00\">class = Edible</text>\n</g>\n<!-- 21&#45;&gt;25 -->\n<g id=\"edge25\" class=\"edge\">\n<title>21&#45;&gt;25</title>\n<path fill=\"none\" stroke=\"black\" d=\"M816.3,-222.91C829.62,-211.1 844.15,-198.22 857.43,-186.45\"/>\n<polygon fill=\"black\" stroke=\"black\" points=\"859.92,-188.92 865.08,-179.67 855.28,-183.68 859.92,-188.92\"/>\n</g>\n<!-- 23 -->\n<g id=\"node24\" class=\"node\">\n<title>23</title>\n<path fill=\"#399de5\" stroke=\"black\" d=\"M743,-68C743,-68 666,-68 666,-68 660,-68 654,-62 654,-56 654,-56 654,-12 654,-12 654,-6 660,0 666,0 666,0 743,0 743,0 749,0 755,-6 755,-12 755,-12 755,-56 755,-56 755,-62 749,-68 743,-68\"/>\n<text text-anchor=\"start\" x=\"664.5\" y=\"-52.8\" font-family=\"Helvetica,sans-Serif\" font-size=\"14.00\">entropy = 0.0</text>\n<text text-anchor=\"start\" x=\"667\" y=\"-37.8\" font-family=\"Helvetica,sans-Serif\" font-size=\"14.00\">samples = 5</text>\n<text text-anchor=\"start\" x=\"665\" y=\"-22.8\" font-family=\"Helvetica,sans-Serif\" font-size=\"14.00\">value = [0, 5]</text>\n<text text-anchor=\"start\" x=\"662\" y=\"-7.8\" font-family=\"Helvetica,sans-Serif\" font-size=\"14.00\">class = Edible</text>\n</g>\n<!-- 22&#45;&gt;23 -->\n<g id=\"edge23\" class=\"edge\">\n<title>22&#45;&gt;23</title>\n<path fill=\"none\" stroke=\"black\" d=\"M745.92,-103.73C740.65,-94.97 735.06,-85.7 729.76,-76.91\"/>\n<polygon fill=\"black\" stroke=\"black\" points=\"732.73,-75.06 724.57,-68.3 726.74,-78.67 732.73,-75.06\"/>\n</g>\n<!-- 24 -->\n<g id=\"node25\" class=\"node\">\n<title>24</title>\n<path fill=\"#e58139\" stroke=\"black\" d=\"M887.5,-68C887.5,-68 785.5,-68 785.5,-68 779.5,-68 773.5,-62 773.5,-56 773.5,-56 773.5,-12 773.5,-12 773.5,-6 779.5,0 785.5,0 785.5,0 887.5,0 887.5,0 893.5,0 899.5,-6 899.5,-12 899.5,-12 899.5,-56 899.5,-56 899.5,-62 893.5,-68 887.5,-68\"/>\n<text text-anchor=\"start\" x=\"796.5\" y=\"-52.8\" font-family=\"Helvetica,sans-Serif\" font-size=\"14.00\">entropy = 0.0</text>\n<text text-anchor=\"start\" x=\"791.5\" y=\"-37.8\" font-family=\"Helvetica,sans-Serif\" font-size=\"14.00\">samples = 125</text>\n<text text-anchor=\"start\" x=\"789.5\" y=\"-22.8\" font-family=\"Helvetica,sans-Serif\" font-size=\"14.00\">value = [125, 0]</text>\n<text text-anchor=\"start\" x=\"781.5\" y=\"-7.8\" font-family=\"Helvetica,sans-Serif\" font-size=\"14.00\">class = Poisonous</text>\n</g>\n<!-- 22&#45;&gt;24 -->\n<g id=\"edge24\" class=\"edge\">\n<title>22&#45;&gt;24</title>\n<path fill=\"none\" stroke=\"black\" d=\"M795.08,-103.73C800.35,-94.97 805.94,-85.7 811.24,-76.91\"/>\n<polygon fill=\"black\" stroke=\"black\" points=\"814.26,-78.67 816.43,-68.3 808.27,-75.06 814.26,-78.67\"/>\n</g>\n</g>\n</svg>\n",
            "text/plain": [
              "<graphviz.sources.Source at 0x7f39dd687640>"
            ]
          },
          "metadata": {},
          "execution_count": 112
        }
      ]
    },
    {
      "cell_type": "code",
      "source": [
        "# Avalia a árvore\n",
        "\n",
        "y_pred = tree.predict(X_test)\n",
        "accuracy = accuracy_score(y_test, y_pred)\n",
        "print(f'Accuracy: {accuracy:.2f}\\n\\n')\n",
        "\n",
        "conf_matrix = confusion_matrix(y_test, y_pred)\n",
        "print(f'Confusion matrix:\\n{conf_matrix}\\n\\n')\n",
        "\n",
        "class_report = classification_report(y_test, y_pred)\n",
        "print(f'Classification report:\\n{class_report}')"
      ],
      "metadata": {
        "colab": {
          "base_uri": "https://localhost:8080/"
        },
        "id": "Q-fBuF_ZwR5p",
        "outputId": "363278b9-f5ef-48f5-8e42-d07b1abd7d75"
      },
      "execution_count": null,
      "outputs": [
        {
          "output_type": "stream",
          "name": "stdout",
          "text": [
            "Accuracy: 1.00\n",
            "\n",
            "\n",
            "Confusion matrix:\n",
            "[[1257    0]\n",
            " [   0 1181]]\n",
            "\n",
            "\n",
            "Classification report:\n",
            "              precision    recall  f1-score   support\n",
            "\n",
            "           0       1.00      1.00      1.00      1257\n",
            "           1       1.00      1.00      1.00      1181\n",
            "\n",
            "    accuracy                           1.00      2438\n",
            "   macro avg       1.00      1.00      1.00      2438\n",
            "weighted avg       1.00      1.00      1.00      2438\n",
            "\n"
          ]
        }
      ]
    }
  ]
}