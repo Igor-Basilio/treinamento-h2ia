{
 "cells": [
  {
   "cell_type": "markdown",
   "id": "b558a58f",
   "metadata": {},
   "source": [
    "Numpy é uma Biblioteca python , já instalada no Jupyter Notebook que auxilia no manuseio de vetores python ( entre outras coisas ) , muito utilizada por Engenheiros Data Science / Engenheiros de Inteligência Artificial."
   ]
  },
  {
   "cell_type": "code",
   "execution_count": 32,
   "id": "68f493d7",
   "metadata": {},
   "outputs": [],
   "source": [
    "import numpy as np # Importando a Biblioteca é o suficiente para começar a utilização , se em um ambiente .ipynb\n",
    "# A linha de codigo significa : Importar a biblioteca numpy como np , numpy pode ser referenciado pelo subnome np."
   ]
  },
  {
   "cell_type": "markdown",
   "id": "0ad3fd54",
   "metadata": {},
   "source": [
    "Agora para ilustrar algumas das funções , as explicando e exemplificando. "
   ]
  },
  {
   "cell_type": "markdown",
   "id": "bb5730b4",
   "metadata": {},
   "source": [
    "* Criando Vetores: Numpy providencia uma maneira para criação de vetores python usando a função np.array(). Exemplo :"
   ]
  },
  {
   "cell_type": "code",
   "execution_count": 33,
   "id": "994b6a6a",
   "metadata": {},
   "outputs": [
    {
     "name": "stdout",
     "output_type": "stream",
     "text": [
      "[1 2 3 4]\n"
     ]
    }
   ],
   "source": [
    "arr = np.array([1, 2, 3, 4])\n",
    "print(arr)"
   ]
  },
  {
   "cell_type": "markdown",
   "id": "0fd62fe4",
   "metadata": {},
   "source": [
    "* Operações Aritméticas : Soma , Subtração entre vetores ... etc."
   ]
  },
  {
   "cell_type": "code",
   "execution_count": 34,
   "id": "e79442e6",
   "metadata": {},
   "outputs": [
    {
     "name": "stdout",
     "output_type": "stream",
     "text": [
      "[5 7 9]\n",
      "[-3 -3 -3]\n",
      "[ 4 10 18]\n",
      "[0.25 0.4  0.5 ]\n"
     ]
    }
   ],
   "source": [
    "a = np.array([1, 2, 3])\n",
    "b = np.array([4, 5, 6])\n",
    "\n",
    "print(a + b)  # [5 7 9]\n",
    "\n",
    "print(a - b)  # [-3 -3 -3]\n",
    "\n",
    "print(a * b)  # [4 10 18]\n",
    "\n",
    "print(a / b)  # [0.25 0.4  0.5 ]"
   ]
  },
  {
   "cell_type": "markdown",
   "id": "f05ed4cf",
   "metadata": {},
   "source": [
    "* Acessando / Busca e Slicing"
   ]
  },
  {
   "cell_type": "code",
   "execution_count": 35,
   "id": "05af3aad",
   "metadata": {},
   "outputs": [
    {
     "name": "stdout",
     "output_type": "stream",
     "text": [
      "1\n",
      "[2 3 4]\n",
      "[1 2 3 4]\n",
      "[4 3 2 1]\n"
     ]
    }
   ],
   "source": [
    "print(arr[0])  # Index 0 do array\n",
    "\n",
    "print(arr[1:4]) # (1 , 4] De : N não inclusivo até M.\n",
    "\n",
    "print(arr[::1]) # Todos os elementos.\n",
    "\n",
    "print(arr[::-1]) # Todos os elementos mas ao contrario."
   ]
  },
  {
   "cell_type": "markdown",
   "id": "896d4a40",
   "metadata": {},
   "source": [
    "* Mudança de formato de um vetor. "
   ]
  },
  {
   "cell_type": "code",
   "execution_count": 36,
   "id": "fe5c3cf8",
   "metadata": {},
   "outputs": [
    {
     "name": "stdout",
     "output_type": "stream",
     "text": [
      "[1 2 3 4 5 6] \n",
      "\n",
      "[[1 2 3]\n",
      " [4 5 6]] \n",
      "\n",
      "[[1 2 3 4 5 6]] \n",
      "\n",
      "[[1 2]\n",
      " [3 4]\n",
      " [5 6]] \n",
      "\n"
     ]
    }
   ],
   "source": [
    "arr = np.array([1, 2, 3, 4, 5, 6])\n",
    "\n",
    "print(arr , \"\\n\")\n",
    "\n",
    "reshaped_arr = np.reshape(arr, (2, 3)) # Muda para um formato 2 tamanho 3.\n",
    "\n",
    "print(reshaped_arr , \"\\n\")\n",
    "\n",
    "reshaped_arr = np.reshape(arr, (1, 6)) \n",
    "\n",
    "print(reshaped_arr , \"\\n\") \n",
    "\n",
    "reshaped_arr = np.reshape(arr, (3, 2)) \n",
    "\n",
    "print(reshaped_arr , \"\\n\")"
   ]
  },
  {
   "cell_type": "markdown",
   "id": "b7bfb9c2",
   "metadata": {},
   "source": [
    "* Operações de estatística. "
   ]
  },
  {
   "cell_type": "code",
   "execution_count": 37,
   "id": "b5514c71",
   "metadata": {},
   "outputs": [
    {
     "name": "stdout",
     "output_type": "stream",
     "text": [
      "3.5\n",
      "1.707825127659933\n",
      "3.5\n"
     ]
    }
   ],
   "source": [
    "# Mean\n",
    "print(np.mean(arr))  # Média Aritmética , {n_1 + n_2 + n_3 + ... + n_i + ... + n_n} / n\n",
    "\n",
    "# Standard deviation\n",
    "print(np.std(arr))   # Desvio padrão , https://pt.wikipedia.org/wiki/Desvio_padr%C3%A3o\n",
    "\n",
    "# Median\n",
    "print(np.median(arr)) # Estatística mediana , https://en.wikipedia.org/wiki/Median"
   ]
  },
  {
   "cell_type": "markdown",
   "id": "85dc0b00",
   "metadata": {},
   "source": [
    "* Filtragem de vetores"
   ]
  },
  {
   "cell_type": "code",
   "execution_count": 39,
   "id": "c4b8824c",
   "metadata": {},
   "outputs": [
    {
     "name": "stdout",
     "output_type": "stream",
     "text": [
      "[4 5 6]\n"
     ]
    }
   ],
   "source": [
    "filtered_arr = arr[arr > 3] # Apenas valores maiores que 3.\n",
    "\n",
    "print(filtered_arr) "
   ]
  },
  {
   "cell_type": "markdown",
   "id": "f99b5128",
   "metadata": {},
   "source": [
    "* Operações em vetores , abstraindo indexação."
   ]
  },
  {
   "cell_type": "code",
   "execution_count": 40,
   "id": "08050320",
   "metadata": {},
   "outputs": [
    {
     "name": "stdout",
     "output_type": "stream",
     "text": [
      "[ 2  4  6  8 10 12]\n"
     ]
    }
   ],
   "source": [
    "result = arr * 2 \n",
    "\n",
    "print(result) "
   ]
  },
  {
   "cell_type": "markdown",
   "id": "d4768397",
   "metadata": {},
   "source": [
    "* Broadcasting , Operações em vetores de tamanhos / dimensões diferentes."
   ]
  },
  {
   "cell_type": "code",
   "execution_count": 41,
   "id": "71394808",
   "metadata": {},
   "outputs": [
    {
     "name": "stdout",
     "output_type": "stream",
     "text": [
      "[3 4 5]\n"
     ]
    }
   ],
   "source": [
    "a = np.array([1, 2, 3])\n",
    "b = 2\n",
    "\n",
    "result = a + b\n",
    "\n",
    "print(result)  "
   ]
  },
  {
   "cell_type": "markdown",
   "id": "078ab2be",
   "metadata": {},
   "source": [
    "* Essas são algumas das operações suportadas e bem utilizadas da biblioteca numpy , claro que existem outras , fique a vontade de explorar o site oficial para explicações mais detalhadas : https://numpy.org/doc/stable/."
   ]
  },
  {
   "cell_type": "markdown",
   "id": "29e5409d",
   "metadata": {},
   "source": [
    "Agora para visualizar todos esses dados são utilizadas varias ferramentas , mas uma bem popular é a biblioteca python MatPlotLib. Irei explicar e exemplificar alguns gráficos sobre funções bem utilizados.\n"
   ]
  },
  {
   "cell_type": "code",
   "execution_count": 42,
   "id": "87a4fb0b",
   "metadata": {},
   "outputs": [],
   "source": [
    "import matplotlib.pyplot as plt # Bem como a biblioteca numpy , se em um ambiente notebook jupyter não é necessario instalação\n",
    "\n",
    "# Apenas importando já podesse fruir das ferramentas. Importado com subnome plt."
   ]
  },
  {
   "cell_type": "markdown",
   "id": "5b8ba37d",
   "metadata": {},
   "source": [
    "* Gráfico de linha de uma função."
   ]
  },
  {
   "cell_type": "code",
   "execution_count": 43,
   "id": "cc87bb58",
   "metadata": {},
   "outputs": [
    {
     "data": {
      "image/png": "[encoded data removed]",
      "text/plain": [
       "<Figure size 432x288 with 1 Axes>"
      ]
     },
     "metadata": {
      "needs_background": "light"
     },
     "output_type": "display_data"
    }
   ],
   "source": [
    "x = np.array([1, 2, 3, 4, 5]) # Vetores numpy de 5 itens \n",
    "y = np.array([2, 4, 6, 8, 10])  \n",
    "\n",
    "plt.plot(x, y)        # Tipo de plot (Esquema) , bidimensional , passa os vetores (x,y)\n",
    "plt.xlabel('X-axis')  # Nome do eixo X\n",
    "plt.ylabel('Y-axis')  # Nome do eixo Y\n",
    "plt.title('Line Plot') # Titulo do gráfico\n",
    "plt.show() # Mostra no notebook\n",
    "\n",
    "# Notasse que os pontos (1,2) ... (5,10) , são tirados de (x,y) respectivamente."
   ]
  },
  {
   "cell_type": "markdown",
   "id": "87d7a874",
   "metadata": {},
   "source": [
    "* Gráfico Scatter de uma função."
   ]
  },
  {
   "cell_type": "code",
   "execution_count": 46,
   "id": "50b7c7da",
   "metadata": {},
   "outputs": [
    {
     "data": {
      "image/png": "[encoded data removed]",
      "text/plain": [
       "<Figure size 432x288 with 1 Axes>"
      ]
     },
     "metadata": {
      "needs_background": "light"
     },
     "output_type": "display_data"
    }
   ],
   "source": [
    "plt.xlabel('X-axis')  # Nome do eixo X\n",
    "plt.ylabel('Y-axis')  # Nome do eixo Y\n",
    "plt.title('Scatter Plot') # Titulo do gráfico\n",
    "plt.scatter(x, y) # Tipo de plot\n",
    "plt.show()  \n",
    "\n",
    "# Aqui os pontos ficam mais aparentes por não possuirem uma linha cruzada entre."
   ]
  },
  {
   "cell_type": "markdown",
   "id": "fe4cc83f",
   "metadata": {},
   "source": [
    "* Gráfico de Barras"
   ]
  },
  {
   "cell_type": "code",
   "execution_count": 52,
   "id": "ed96609c",
   "metadata": {},
   "outputs": [
    {
     "data": {
      "image/png": "[encoded data removed]",
      "text/plain": [
       "<Figure size 432x288 with 1 Axes>"
      ]
     },
     "metadata": {
      "needs_background": "light"
     },
     "output_type": "display_data"
    }
   ],
   "source": [
    "x = np.concatenate([y])\n",
    "\n",
    "plt.bar(x, y)\n",
    "\n",
    "plt.xlabel('Categorias')\n",
    "\n",
    "plt.ylabel('Frequencia')\n",
    "\n",
    "plt.title('Bar Plot')\n",
    "\n",
    "plt.show()"
   ]
  },
  {
   "cell_type": "markdown",
   "id": "446b61bf",
   "metadata": {},
   "source": [
    "* Gráfico Torta "
   ]
  },
  {
   "cell_type": "code",
   "execution_count": 55,
   "id": "fbf89d6a",
   "metadata": {},
   "outputs": [
    {
     "data": {
      "image/png": "[encoded data removed]",
      "text/plain": [
       "<Figure size 432x288 with 1 Axes>"
      ]
     },
     "metadata": {},
     "output_type": "display_data"
    }
   ],
   "source": [
    "x = [40, 20, 30, 10]\n",
    "\n",
    "labels = ['A', 'B', 'C', 'D']\n",
    "\n",
    "plt.pie(x, labels=labels, autopct='%1.1f%%')\n",
    "plt.title('Pie Chart')\n",
    "\n",
    "plt.show()"
   ]
  },
  {
   "cell_type": "markdown",
   "id": "e89ea9a2",
   "metadata": {},
   "source": [
    "* Claro que esses são gráficos mais simples , mas não é dificil a utilização para casos mais complexos :"
   ]
  },
  {
   "cell_type": "code",
   "execution_count": 58,
   "id": "f37b11a2",
   "metadata": {},
   "outputs": [
    {
     "data": {
      "image/png": "[encoded data removed]",
      "text/plain": [
       "<Figure size 432x288 with 1 Axes>"
      ]
     },
     "metadata": {
      "needs_background": "light"
     },
     "output_type": "display_data"
    }
   ],
   "source": [
    "\n",
    "x1 = np.linspace(0, 10, 100)  #line plot \n",
    "plt.plot(x1, np.sin(x1), '-',color='orange') \n",
    "plt.plot(x1, np.cos(x1), '--',color='b')\n",
    " \n",
    "plt.xlabel('X')\n",
    "plt.ylabel('Y') \n",
    "\n",
    "plt.title(\"Sin Cos\") \n",
    "plt.show()"
   ]
  },
  {
   "cell_type": "markdown",
   "id": "10434c78",
   "metadata": {},
   "source": [
    "* Esses são alguns graficos utilizados da biblioteca MatPlotLib , para mais detalhes e outros variados tipos de gráficos para a situação desejada para os seus dados no site oficial : https://matplotlib.org/stable/plot_types/index"
   ]
  }
 ],
 "metadata": {
  "kernelspec": {
   "display_name": "Python 3 (ipykernel)",
   "language": "python",
   "name": "python3"
  },
  "language_info": {
   "codemirror_mode": {
    "name": "ipython",
    "version": 3
   },
   "file_extension": ".py",
   "mimetype": "text/x-python",
   "name": "python",
   "nbconvert_exporter": "python",
   "pygments_lexer": "ipython3",
   "version": "3.9.12"
  }
 },
 "nbformat": 4,
 "nbformat_minor": 5
}
